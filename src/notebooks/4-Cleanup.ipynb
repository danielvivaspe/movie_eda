{
 "cells": [
  {
   "cell_type": "code",
   "execution_count": 3,
   "metadata": {
    "collapsed": true
   },
   "outputs": [],
   "source": [
    "import pandas as pd"
   ]
  },
  {
   "cell_type": "code",
   "execution_count": 4,
   "outputs": [],
   "source": [
    "#Leo el dataframe\n",
    "data = pd.read_csv('./data/all_data.csv', index_col='tmdb_id')"
   ],
   "metadata": {
    "collapsed": false,
    "pycharm": {
     "name": "#%%\n"
    }
   }
  },
  {
   "cell_type": "code",
   "execution_count": 5,
   "outputs": [],
   "source": [
    "#Descarto registros sin presupuesto\n",
    "data = data[data['budget'] != 0]\n",
    "\n",
    "#Descarto presupuestos por debajo de 1000\n",
    "data = data[data['budget'] >= 1000]\n",
    "\n",
    "#Descarto registros sin beneficio\n",
    "data = data[data['revenue'] != 0]\n",
    "\n",
    "#Descarto registros sin género principal\n",
    "data = data[data['genre'] != '0']\n",
    "\n",
    "#Descarto registros de películas que no estén publicadas\n",
    "data = data[data['status'] == 'Released']\n",
    "\n",
    "#Ya no necesito la columna status puesto que ya he filtrado por ella\n",
    "data.drop(columns=['status'], inplace=True)"
   ],
   "metadata": {
    "collapsed": false,
    "pycharm": {
     "name": "#%%\n"
    }
   }
  },
  {
   "cell_type": "code",
   "execution_count": 6,
   "outputs": [],
   "source": [
    "#Añado una columna de ingresos\n",
    "data['profit'] = data['revenue'] - data['budget']\n",
    "\n",
    "#Retiro los registros sin fecha\n",
    "data.dropna(subset=['release_date'], how='all', inplace=True)\n",
    "\n",
    "#Añado una columna con el año\n",
    "data['year'] = data['release_date'].str[:4]\n",
    "\n",
    "#Añado otra columna con el mes\n",
    "months = {\n",
    "    '01': 'Jan',\n",
    "    '02': 'Feb',\n",
    "    '03': 'Mar',\n",
    "    '04': 'Apr',\n",
    "    '05': 'May',\n",
    "    '06': 'Jun',\n",
    "    '07': 'Jul',\n",
    "    '08': 'Aug',\n",
    "    '09': 'Sep',\n",
    "    '10': 'Oct',\n",
    "    '11': 'Nov',\n",
    "    '12': 'Dec',\n",
    "}\n",
    "data['month'] = data['release_date'].apply(lambda x: months[x[5:7]])\n",
    "\n",
    "#Borro los registros del 2022\n",
    "data = data[data['year'] != '2022']\n",
    "\n",
    "#Creo una columna con el ROI\n",
    "data['ROI'] = ((data['revenue'] - data['budget']) / data['budget']) * 100\n",
    "\n",
    "#Añado una columna con la media bayesiana de la valoración\n",
    "#https://www.algolia.com/doc/guides/solutions/ecommerce/relevance-optimization/tutorials/bayesian-average/\n",
    "confidence = 50\n",
    "votes_avg = 6.1757\n",
    "data['bayesAVG'] = ((data['vote_average'] * data['vote_count']) + (confidence * votes_avg)) / (data['vote_count'] + confidence)"
   ],
   "metadata": {
    "collapsed": false,
    "pycharm": {
     "name": "#%%\n"
    }
   }
  },
  {
   "cell_type": "code",
   "execution_count": 11,
   "outputs": [],
   "source": [
    "data.to_csv('../data/clean_data.csv')"
   ],
   "metadata": {
    "collapsed": false,
    "pycharm": {
     "name": "#%%\n"
    }
   }
  },
  {
   "cell_type": "code",
   "execution_count": null,
   "outputs": [],
   "source": [],
   "metadata": {
    "collapsed": false,
    "pycharm": {
     "name": "#%%\n"
    }
   }
  }
 ],
 "metadata": {
  "kernelspec": {
   "display_name": "Python 3",
   "language": "python",
   "name": "python3"
  },
  "language_info": {
   "codemirror_mode": {
    "name": "ipython",
    "version": 2
   },
   "file_extension": ".py",
   "mimetype": "text/x-python",
   "name": "python",
   "nbconvert_exporter": "python",
   "pygments_lexer": "ipython2",
   "version": "2.7.6"
  }
 },
 "nbformat": 4,
 "nbformat_minor": 0
}