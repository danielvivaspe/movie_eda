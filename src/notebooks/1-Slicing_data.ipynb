{
 "cells": [
  {
   "cell_type": "code",
   "execution_count": 2,
   "metadata": {
    "collapsed": true
   },
   "outputs": [],
   "source": [
    "import pandas as pd\n",
    "import urllib.request, json"
   ]
  },
  {
   "cell_type": "code",
   "execution_count": 3,
   "outputs": [
    {
     "data": {
      "text/plain": "        adult      id                      original_title  popularity  video\n0       False    3924                             Blondie       1.840  False\n1       False    6124                 Der Mann ohne Namen       0.638  False\n2       False    8773                 L'amour à vingt ans       3.880  False\n3       False   25449  New World Disorder 9: Never Enough       1.750  False\n4       False   31975      Sesame Street: Elmo Loves You!       0.631   True\n...       ...     ...                                 ...         ...    ...\n669471  False  924030                        Furious Road       0.000  False\n669472  False  924031                     Tonight At Noon       0.000  False\n669473  False  924032                     Noche americana       0.000  False\n669474  False  924033          The Curse of the Mummy Cat       0.000  False\n669475  False  924034                           Mucked Up       0.000  False\n\n[669476 rows x 5 columns]",
      "text/html": "<div>\n<style scoped>\n    .dataframe tbody tr th:only-of-type {\n        vertical-align: middle;\n    }\n\n    .dataframe tbody tr th {\n        vertical-align: top;\n    }\n\n    .dataframe thead th {\n        text-align: right;\n    }\n</style>\n<table border=\"1\" class=\"dataframe\">\n  <thead>\n    <tr style=\"text-align: right;\">\n      <th></th>\n      <th>adult</th>\n      <th>id</th>\n      <th>original_title</th>\n      <th>popularity</th>\n      <th>video</th>\n    </tr>\n  </thead>\n  <tbody>\n    <tr>\n      <th>0</th>\n      <td>False</td>\n      <td>3924</td>\n      <td>Blondie</td>\n      <td>1.840</td>\n      <td>False</td>\n    </tr>\n    <tr>\n      <th>1</th>\n      <td>False</td>\n      <td>6124</td>\n      <td>Der Mann ohne Namen</td>\n      <td>0.638</td>\n      <td>False</td>\n    </tr>\n    <tr>\n      <th>2</th>\n      <td>False</td>\n      <td>8773</td>\n      <td>L'amour à vingt ans</td>\n      <td>3.880</td>\n      <td>False</td>\n    </tr>\n    <tr>\n      <th>3</th>\n      <td>False</td>\n      <td>25449</td>\n      <td>New World Disorder 9: Never Enough</td>\n      <td>1.750</td>\n      <td>False</td>\n    </tr>\n    <tr>\n      <th>4</th>\n      <td>False</td>\n      <td>31975</td>\n      <td>Sesame Street: Elmo Loves You!</td>\n      <td>0.631</td>\n      <td>True</td>\n    </tr>\n    <tr>\n      <th>...</th>\n      <td>...</td>\n      <td>...</td>\n      <td>...</td>\n      <td>...</td>\n      <td>...</td>\n    </tr>\n    <tr>\n      <th>669471</th>\n      <td>False</td>\n      <td>924030</td>\n      <td>Furious Road</td>\n      <td>0.000</td>\n      <td>False</td>\n    </tr>\n    <tr>\n      <th>669472</th>\n      <td>False</td>\n      <td>924031</td>\n      <td>Tonight At Noon</td>\n      <td>0.000</td>\n      <td>False</td>\n    </tr>\n    <tr>\n      <th>669473</th>\n      <td>False</td>\n      <td>924032</td>\n      <td>Noche americana</td>\n      <td>0.000</td>\n      <td>False</td>\n    </tr>\n    <tr>\n      <th>669474</th>\n      <td>False</td>\n      <td>924033</td>\n      <td>The Curse of the Mummy Cat</td>\n      <td>0.000</td>\n      <td>False</td>\n    </tr>\n    <tr>\n      <th>669475</th>\n      <td>False</td>\n      <td>924034</td>\n      <td>Mucked Up</td>\n      <td>0.000</td>\n      <td>False</td>\n    </tr>\n  </tbody>\n</table>\n<p>669476 rows × 5 columns</p>\n</div>"
     },
     "execution_count": 3,
     "metadata": {},
     "output_type": "execute_result"
    }
   ],
   "source": [
    "#Leo la lista de ids con el resto de datos\n",
    "data = pd.read_json('../data/tmdb-ids.json', lines=True)\n",
    "data"
   ],
   "metadata": {
    "collapsed": false,
    "pycharm": {
     "name": "#%%\n"
    }
   }
  },
  {
   "cell_type": "code",
   "execution_count": 3,
   "outputs": [
    {
     "data": {
      "text/plain": "         adult  budget genre original_language original_title overview  \\\ntmdb_id                                                                  \n3924     False       0     0                 0              0        0   \n6124     False       0     0                 0              0        0   \n8773     False       0     0                 0              0        0   \n25449    False       0     0                 0              0        0   \n31975    False       0     0                 0              0        0   \n\n         popularity poster_path release_date  revenue  runtime status tagline  \\\ntmdb_id                                                                         \n3924            0.0           0            0        0        0      0       0   \n6124            0.0           0            0        0        0      0       0   \n8773            0.0           0            0        0        0      0       0   \n25449           0.0           0            0        0        0      0       0   \n31975           0.0           0            0        0        0      0       0   \n\n        title  vote_average  vote_count  \ntmdb_id                                  \n3924        0           0.0           0  \n6124        0           0.0           0  \n8773        0           0.0           0  \n25449       0           0.0           0  \n31975       0           0.0           0  ",
      "text/html": "<div>\n<style scoped>\n    .dataframe tbody tr th:only-of-type {\n        vertical-align: middle;\n    }\n\n    .dataframe tbody tr th {\n        vertical-align: top;\n    }\n\n    .dataframe thead th {\n        text-align: right;\n    }\n</style>\n<table border=\"1\" class=\"dataframe\">\n  <thead>\n    <tr style=\"text-align: right;\">\n      <th></th>\n      <th>adult</th>\n      <th>budget</th>\n      <th>genre</th>\n      <th>original_language</th>\n      <th>original_title</th>\n      <th>overview</th>\n      <th>popularity</th>\n      <th>poster_path</th>\n      <th>release_date</th>\n      <th>revenue</th>\n      <th>runtime</th>\n      <th>status</th>\n      <th>tagline</th>\n      <th>title</th>\n      <th>vote_average</th>\n      <th>vote_count</th>\n    </tr>\n    <tr>\n      <th>tmdb_id</th>\n      <th></th>\n      <th></th>\n      <th></th>\n      <th></th>\n      <th></th>\n      <th></th>\n      <th></th>\n      <th></th>\n      <th></th>\n      <th></th>\n      <th></th>\n      <th></th>\n      <th></th>\n      <th></th>\n      <th></th>\n      <th></th>\n    </tr>\n  </thead>\n  <tbody>\n    <tr>\n      <th>3924</th>\n      <td>False</td>\n      <td>0</td>\n      <td>0</td>\n      <td>0</td>\n      <td>0</td>\n      <td>0</td>\n      <td>0.0</td>\n      <td>0</td>\n      <td>0</td>\n      <td>0</td>\n      <td>0</td>\n      <td>0</td>\n      <td>0</td>\n      <td>0</td>\n      <td>0.0</td>\n      <td>0</td>\n    </tr>\n    <tr>\n      <th>6124</th>\n      <td>False</td>\n      <td>0</td>\n      <td>0</td>\n      <td>0</td>\n      <td>0</td>\n      <td>0</td>\n      <td>0.0</td>\n      <td>0</td>\n      <td>0</td>\n      <td>0</td>\n      <td>0</td>\n      <td>0</td>\n      <td>0</td>\n      <td>0</td>\n      <td>0.0</td>\n      <td>0</td>\n    </tr>\n    <tr>\n      <th>8773</th>\n      <td>False</td>\n      <td>0</td>\n      <td>0</td>\n      <td>0</td>\n      <td>0</td>\n      <td>0</td>\n      <td>0.0</td>\n      <td>0</td>\n      <td>0</td>\n      <td>0</td>\n      <td>0</td>\n      <td>0</td>\n      <td>0</td>\n      <td>0</td>\n      <td>0.0</td>\n      <td>0</td>\n    </tr>\n    <tr>\n      <th>25449</th>\n      <td>False</td>\n      <td>0</td>\n      <td>0</td>\n      <td>0</td>\n      <td>0</td>\n      <td>0</td>\n      <td>0.0</td>\n      <td>0</td>\n      <td>0</td>\n      <td>0</td>\n      <td>0</td>\n      <td>0</td>\n      <td>0</td>\n      <td>0</td>\n      <td>0.0</td>\n      <td>0</td>\n    </tr>\n    <tr>\n      <th>31975</th>\n      <td>False</td>\n      <td>0</td>\n      <td>0</td>\n      <td>0</td>\n      <td>0</td>\n      <td>0</td>\n      <td>0.0</td>\n      <td>0</td>\n      <td>0</td>\n      <td>0</td>\n      <td>0</td>\n      <td>0</td>\n      <td>0</td>\n      <td>0</td>\n      <td>0.0</td>\n      <td>0</td>\n    </tr>\n  </tbody>\n</table>\n</div>"
     },
     "execution_count": 3,
     "metadata": {},
     "output_type": "execute_result"
    }
   ],
   "source": [
    "#Solo me interesan los ids, por lo que deshecho el resto de columnas\n",
    "data.drop(columns=['adult', 'original_title', 'popularity', 'video'], inplace=True)\n",
    "\n",
    "#Renombro la columna de id\n",
    "data.rename(columns={\"id\": \"tmdb_id\"}, inplace=True)\n",
    "\n",
    "#Creo las columnas de datos que me interesa tener\n",
    "data = data.reindex(columns = [\n",
    "    'tmdb_id', 'adult', 'budget', 'genre', 'original_language',\n",
    "    'original_title', 'overview', 'popularity', 'poster_path',\n",
    "    'release_date', 'revenue', 'runtime', 'status', 'tagline',\n",
    "    'title', 'vote_average','vote_count'], fill_value=0)\n",
    "\n",
    "#Defino el tipo de datos del dataframe\n",
    "data = data.astype({\n",
    "    'adult': bool, 'budget': int, 'genre': str, 'original_language': str,\n",
    "    'original_title': str, 'overview': str, 'popularity': float, 'poster_path': str,\n",
    "    'release_date': str, 'revenue': int, 'runtime': int, 'status': str, 'tagline': str,\n",
    "    'title': str, 'vote_average': float, 'vote_count': int\n",
    "})\n",
    "\n",
    "#Defino el índice\n",
    "data.set_index('tmdb_id', inplace=True)\n",
    "\n",
    "data.head()"
   ],
   "metadata": {
    "collapsed": false,
    "pycharm": {
     "name": "#%%\n"
    }
   }
  },
  {
   "cell_type": "code",
   "execution_count": 49,
   "outputs": [],
   "source": [
    "#El dataset es enorme, lo divido en trozos de 10000 registros\n",
    "size = 10000\n",
    "\n",
    "for i in range(1, 68):\n",
    "    inicio  = size * (i-1)\n",
    "    fin     = (size * i) - 1\n",
    "    trozo = data[inicio:fin]\n",
    "    trozo.to_csv(f'../data/sliced_files/data_{i}.csv')"
   ],
   "metadata": {
    "collapsed": false,
    "pycharm": {
     "name": "#%%\n"
    }
   }
  }
 ],
 "metadata": {
  "kernelspec": {
   "display_name": "Python 3",
   "language": "python",
   "name": "python3"
  },
  "language_info": {
   "codemirror_mode": {
    "name": "ipython",
    "version": 2
   },
   "file_extension": ".py",
   "mimetype": "text/x-python",
   "name": "python",
   "nbconvert_exporter": "python",
   "pygments_lexer": "ipython2",
   "version": "2.7.6"
  }
 },
 "nbformat": 4,
 "nbformat_minor": 0
}